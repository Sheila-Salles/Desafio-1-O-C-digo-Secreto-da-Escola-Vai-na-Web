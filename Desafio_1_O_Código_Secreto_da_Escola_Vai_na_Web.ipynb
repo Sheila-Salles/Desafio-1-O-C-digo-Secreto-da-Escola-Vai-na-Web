{
  "nbformat": 4,
  "nbformat_minor": 0,
  "metadata": {
    "colab": {
      "provenance": [],
      "authorship_tag": "ABX9TyMbSFSI27P7jzL97IJkwq1G",
      "include_colab_link": true
    },
    "kernelspec": {
      "name": "python3",
      "display_name": "Python 3"
    },
    "language_info": {
      "name": "python"
    }
  },
  "cells": [
    {
      "cell_type": "markdown",
      "metadata": {
        "id": "view-in-github",
        "colab_type": "text"
      },
      "source": [
        "<a href=\"https://colab.research.google.com/github/Sheila-Salles/Desafio-1-O-C-digo-Secreto-da-Escola-Vai-na-Web/blob/main/Desafio_1_O_C%C3%B3digo_Secreto_da_Escola_Vai_na_Web.ipynb\" target=\"_parent\"><img src=\"https://colab.research.google.com/assets/colab-badge.svg\" alt=\"Open In Colab\"/></a>"
      ]
    },
    {
      "cell_type": "markdown",
      "source": [
        "Missão 1: Restaurando as Regras Escolares 📝\n",
        "O vírus apagou os critérios de aprovação dos alunos! Para ajudar o Professor Byte a organizar o sistema, sua tarefa é criar um programa que verifique se um aluno foi aprovado (nota maior ou igual à 6) ou reprovado (nota menor ou igual à 5)."
      ],
      "metadata": {
        "id": "TtOUEvO9IImD"
      }
    },
    {
      "cell_type": "code",
      "execution_count": 2,
      "metadata": {
        "id": "YjXkLawGIFKO",
        "colab": {
          "base_uri": "https://localhost:8080/"
        },
        "outputId": "b6c191d6-1041-49b4-e888-837bf561cbe9"
      },
      "outputs": [
        {
          "output_type": "stream",
          "name": "stdout",
          "text": [
            "Digite a nota: 5\n",
            "Reprovado\n"
          ]
        }
      ],
      "source": [
        "nota = (float(input('Digite a nota: ')))\n",
        "\n",
        "if nota >= 6:\n",
        "  print('Aprovado')\n",
        "else:\n",
        "  print('Reprovado')"
      ]
    },
    {
      "cell_type": "markdown",
      "source": [
        "Missão 2: O Sistema Eleitoral Secreto 📝\n",
        "O grêmio estudantil da escola realiza votações para decidir melhorias e inovações, mas o vírus desativou a verificação de elegibilidade para votar! Sua tarefa é criar um programa que pergunte a idade do usuário e informe se ele pode votar (mínimo: 16 anos)."
      ],
      "metadata": {
        "id": "d0KETE-sIZhL"
      }
    },
    {
      "cell_type": "code",
      "source": [
        "idade = (int(input('Qual a sua idade? ')))\n",
        "\n",
        "if idade >= 16:\n",
        "  print('Você pode votar!!!')\n",
        "else:\n",
        "  print('Você não tem a idade mínima para votar.')"
      ],
      "metadata": {
        "id": "_ofoIPw6IfMD",
        "colab": {
          "base_uri": "https://localhost:8080/"
        },
        "outputId": "d658b3bf-4a57-4ec3-9b9a-24b3f3b3707c"
      },
      "execution_count": null,
      "outputs": [
        {
          "output_type": "stream",
          "name": "stdout",
          "text": [
            "Qual a sua idade? 15\n",
            "Você não tem a idade mínima para votar.\n"
          ]
        }
      ]
    },
    {
      "cell_type": "markdown",
      "source": [
        "Missão 3: Recuperando o Sistema de Notas 📊\n",
        "As classificações das provas desapareceram! Agora os alunos não sabem se tiraram um não sabem se tiraram um A, B, C, D ou F . Antes que o pânico se espalhe, sua tarefa é criar um programa que peça a nota do aluno e imprima sua classificação conforme a escala:\n",
        "\n",
        "- A (90-100) – \"Parabéns, você tirou A!\"\n",
        "- B (80-89) – \"Muito bem, você tirou B.\"\n",
        "- C (70-79) – \"Bom trabalho, você tirou C.\"\n",
        "- D (60-69) – \"Fique atento, você tirou D.\"\n",
        "- F (menos de 60) – \"Estude um pouco mais, você tirou F.\""
      ],
      "metadata": {
        "id": "5RRC5hV8If_7"
      }
    },
    {
      "cell_type": "code",
      "source": [
        "nota = (float(input('Digite a nota: ')))\n",
        "\n",
        "if nota >= 90:\n",
        "  print( \"Parabéns, você tirou A!\")\n",
        "elif nota >= 80:\n",
        "  print('Muito bem, você tirou B.')\n",
        "elif nota >= 70:\n",
        "  print('Bom trabalho, você tirou C')\n",
        "elif nota >= 60:\n",
        "  print('Fique atento, você tirou D')\n",
        "else:\n",
        "  print('Estude um pouco mais, você tirou F.')\n",
        "\n",
        "\n"
      ],
      "metadata": {
        "id": "rJu5nG0PIn98",
        "colab": {
          "base_uri": "https://localhost:8080/"
        },
        "outputId": "c611e93d-488d-4cf3-ecfa-429e8e931ce5"
      },
      "execution_count": null,
      "outputs": [
        {
          "output_type": "stream",
          "name": "stdout",
          "text": [
            "Digite a nota: 80\n",
            "Muito bem, você tirou B.\n"
          ]
        }
      ]
    },
    {
      "cell_type": "markdown",
      "source": [
        "Missão 4: Restaurando a Identificação de Números ⚖️\n",
        "Os robôs da escola precisam identificar padrões numéricos para resolver cálculos e otimizar os sistemas. No entanto, o vírus bagunçou os algoritmos e agora eles não conseguem mais somar corretamente!\n",
        "Crie um programa que peça dois números ao usuário e exiba a soma deles."
      ],
      "metadata": {
        "id": "vGex-sE7Ionr"
      }
    },
    {
      "cell_type": "code",
      "source": [
        "numero1 = (float(input('Digite um número: ')))\n",
        "numero2 = (float(input('Digite mais um número: ')))\n",
        "\n",
        "print(f' O resultado da soma é {numero1 + numero2}')"
      ],
      "metadata": {
        "id": "SHyNSyD8Ivss",
        "colab": {
          "base_uri": "https://localhost:8080/"
        },
        "outputId": "7fd5238a-bec6-4440-9757-2e1e611341a9"
      },
      "execution_count": null,
      "outputs": [
        {
          "output_type": "stream",
          "name": "stdout",
          "text": [
            "Digite um número: 10\n",
            "Digite mais um número: 20\n",
            " O resultado da soma é 30.0\n"
          ]
        }
      ]
    },
    {
      "cell_type": "markdown",
      "source": [
        "Missão 5: Recuperando o Cofre de Segurança 🔒\n",
        "O cofre da biblioteca guarda códigos raros de programação, mas o vírus resetou a senha! Agora, apenas quem souber a combinação correta poderá acessá-lo.\n",
        "Crie um programa que solicite ao usuário uma senha e verifique se ela está correta. A senha correta é \"Python123\"."
      ],
      "metadata": {
        "id": "JJ2VTTJBIxtU"
      }
    },
    {
      "cell_type": "code",
      "source": [
        "senha = (input('Digite a senha: '))\n",
        "\n",
        "if senha == 'Python123':\n",
        "  print('Acesso liberado')\n",
        "else:\n",
        "  print('Acesso negado')"
      ],
      "metadata": {
        "id": "YoQpoJ3II2qM"
      },
      "execution_count": null,
      "outputs": []
    },
    {
      "cell_type": "markdown",
      "source": [
        "Missão 6: Reforçando a Segurança e a Contagem do Sistema 💾\n",
        "O vírus está comprometendo o sistema de segurança e a contagem de registros! Para restaurar o funcionamento correto, você precisa reforçar as verificações e garantir que os dados sejam processados corretamente.\n",
        "  Exiba os números de 1 a 10 usando um loop while.  "
      ],
      "metadata": {
        "id": "z0JRBdTcI8FN"
      }
    },
    {
      "cell_type": "code",
      "source": [
        "numero = 1\n",
        "\n",
        "while numero <= 10:\n",
        "  print(numero)\n",
        "  numero += 1"
      ],
      "metadata": {
        "colab": {
          "base_uri": "https://localhost:8080/"
        },
        "id": "PRq4hDLHsRQD",
        "outputId": "a5b312d6-567f-4b9f-a3c5-87fa37665688"
      },
      "execution_count": null,
      "outputs": [
        {
          "output_type": "stream",
          "name": "stdout",
          "text": [
            "1\n",
            "2\n",
            "3\n",
            "4\n",
            "5\n",
            "6\n",
            "7\n",
            "8\n",
            "9\n",
            "10\n"
          ]
        }
      ]
    },
    {
      "cell_type": "markdown",
      "source": [
        "Missão 7: Organizando a Lista📋\n",
        "Os números estão misturados e precisam ser organizados!\n",
        "Para resolver isso, você deve pegar os seguintes números: 8, 3, 10, 1 e 5, armazená-los em uma lista e depois exibi-los em ordem crescente. Isso ajudará a colocar tudo em ordem corretamente!  "
      ],
      "metadata": {
        "id": "H6n5Q-etI_zM"
      }
    },
    {
      "cell_type": "code",
      "source": [
        "lista = [8, 3, 10, 1, 5]\n",
        "lista.sort()\n",
        "print(lista)"
      ],
      "metadata": {
        "id": "hxMOM6wdI9DN",
        "colab": {
          "base_uri": "https://localhost:8080/"
        },
        "outputId": "963048ce-4a75-42c8-83ed-5a73ba31dbda"
      },
      "execution_count": null,
      "outputs": [
        {
          "output_type": "stream",
          "name": "stdout",
          "text": [
            "[1, 3, 5, 8, 10]\n"
          ]
        }
      ]
    },
    {
      "cell_type": "markdown",
      "source": [
        "Missão 8: Acessando os Registros de Alunos 🏷️\n",
        "O sistema de alunos está desordenado! Para acessar as informações corretamente, você precisa organizar os dados.\n",
        "Crie uma tupla com os seguintes nomes: Ana, Bruno, Carla, Daniel, Eduardo e exiba o primeiro e o último nome."
      ],
      "metadata": {
        "id": "PeSoNuIlJHRd"
      }
    },
    {
      "cell_type": "code",
      "source": [
        "alunos = ('Ana', 'Bruno', 'Carla', 'Daniel', 'Eduardo')\n",
        "print(alunos[0])\n",
        "print(alunos[-1])"
      ],
      "metadata": {
        "id": "nZimYCLwJMVm"
      },
      "execution_count": null,
      "outputs": []
    },
    {
      "cell_type": "markdown",
      "source": [
        "Missão 9: Calculando Dobro de um Número 🛠️\n",
        "Os alunos precisam de um programa que ajude em cálculos rápidos.\n",
        "Sua tarefa é criar uma função que receba um número e retorne o dobro do seu valor.\n",
        "➡️ Exemplo: dobro(5)\n",
        "➡️ Saída: \"O dobro de 5 é 10\""
      ],
      "metadata": {
        "id": "aP-ZTxcXJNnN"
      }
    },
    {
      "cell_type": "code",
      "source": [
        "numero = (float(input('Digite um número: ')))\n",
        "\n",
        "print(f' O dobro desse número é {numero * 2}')"
      ],
      "metadata": {
        "id": "ESnXiZjFJT8F",
        "colab": {
          "base_uri": "https://localhost:8080/"
        },
        "outputId": "cba18f5d-eeb7-4c78-9bef-47cb0b016d6f"
      },
      "execution_count": null,
      "outputs": [
        {
          "output_type": "stream",
          "name": "stdout",
          "text": [
            "Digite um número: 10\n",
            " O dobro desse número é 20.0\n"
          ]
        }
      ]
    },
    {
      "cell_type": "markdown",
      "source": [
        "Missão 10: Contando Letras 🔄\n",
        "O sistema precisa contar quantas letras há em um nome.\n",
        "➡️ Crie uma função que receba um nome e diga quantas letras esse nome tem.\n",
        "➡️ Exemplo: contar_letras(\"Ana\")\n",
        "➡️ Saída:\" O nome Ana tem 3 letras\""
      ],
      "metadata": {
        "id": "_XF8D_9HJUkO"
      }
    },
    {
      "cell_type": "code",
      "source": [
        "nome = (input('Digite seu nome: '))\n",
        "\n",
        "print(f'O nome {nome} tem {len(nome)} letras')"
      ],
      "metadata": {
        "id": "9hsx9fOjJZ32",
        "colab": {
          "base_uri": "https://localhost:8080/"
        },
        "outputId": "829051d6-1d85-494b-fbd6-0c0e7b3ff013"
      },
      "execution_count": null,
      "outputs": [
        {
          "output_type": "stream",
          "name": "stdout",
          "text": [
            "Digite seu nome: Sheila\n",
            "O nome Sheila tem 6 letras\n"
          ]
        }
      ]
    },
    {
      "cell_type": "markdown",
      "source": [
        "Você restaurou a escola Vai na Web! 🎉 Com cada desafio superado, você ajudou a salvar o sistema. Agora, você se tornou um(a) verdadeiro(a) programador(a) FullStack lendário(a)!!! 🚀"
      ],
      "metadata": {
        "id": "O-pOaJ7lJafe"
      }
    }
  ]
}